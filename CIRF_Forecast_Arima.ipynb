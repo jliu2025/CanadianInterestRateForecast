{
 "cells": [
  {
   "cell_type": "code",
   "execution_count": 1,
   "id": "e218e61a-e819-4e3c-a5d1-d87b15c843cd",
   "metadata": {},
   "outputs": [],
   "source": [
    "\n",
    "import datetime\n",
    "import pandas as pd\n",
    "import matplotlib.mlab as mlab\n",
    "import matplotlib.pyplot as plt\n",
    "import datetime\n",
    "import numpy as np\n",
    "import requests\n",
    "from functools import reduce\n",
    "import warnings\n",
    "warnings.filterwarnings('ignore')"
   ]
  },
  {
   "cell_type": "code",
   "execution_count": 2,
   "id": "8ade75e7-d0c4-4033-b70a-1a2a0312e518",
   "metadata": {},
   "outputs": [],
   "source": [
    "df=pd.read_csv(\"df_combined.csv\", index_col=False)"
   ]
  },
  {
   "cell_type": "code",
   "execution_count": 3,
   "id": "6b200ef1-c24f-4d44-9bf1-8a86c126d6d8",
   "metadata": {},
   "outputs": [],
   "source": [
    "df = df.iloc[:, 1:]\n",
    "df.set_index('date', inplace=True)"
   ]
  },
  {
   "cell_type": "code",
   "execution_count": 4,
   "id": "dd010916-0c76-4cdd-91f5-69eb092be1d3",
   "metadata": {},
   "outputs": [
    {
     "data": {
      "text/html": [
       "<div>\n",
       "<style scoped>\n",
       "    .dataframe tbody tr th:only-of-type {\n",
       "        vertical-align: middle;\n",
       "    }\n",
       "\n",
       "    .dataframe tbody tr th {\n",
       "        vertical-align: top;\n",
       "    }\n",
       "\n",
       "    .dataframe thead th {\n",
       "        text-align: right;\n",
       "    }\n",
       "</style>\n",
       "<table border=\"1\" class=\"dataframe\">\n",
       "  <thead>\n",
       "    <tr style=\"text-align: right;\">\n",
       "      <th></th>\n",
       "      <th>bond_yield_1_yr</th>\n",
       "      <th>bond_yield_5_yr</th>\n",
       "      <th>bond_yield_10_yr</th>\n",
       "      <th>us_funds_rate</th>\n",
       "      <th>cpi_yoy</th>\n",
       "      <th>production_yoy</th>\n",
       "      <th>v39050</th>\n",
       "      <th>v39078</th>\n",
       "      <th>v39079</th>\n",
       "    </tr>\n",
       "    <tr>\n",
       "      <th>date</th>\n",
       "      <th></th>\n",
       "      <th></th>\n",
       "      <th></th>\n",
       "      <th></th>\n",
       "      <th></th>\n",
       "      <th></th>\n",
       "      <th></th>\n",
       "      <th></th>\n",
       "      <th></th>\n",
       "    </tr>\n",
       "  </thead>\n",
       "  <tbody>\n",
       "    <tr>\n",
       "      <th>2017-06-01</th>\n",
       "      <td>0.68</td>\n",
       "      <td>0.58</td>\n",
       "      <td>1.61</td>\n",
       "      <td>1.04</td>\n",
       "      <td>1.006945</td>\n",
       "      <td>7.074822</td>\n",
       "      <td>0.4987</td>\n",
       "      <td>0.75</td>\n",
       "      <td>0.50</td>\n",
       "    </tr>\n",
       "    <tr>\n",
       "      <th>2017-07-01</th>\n",
       "      <td>0.74</td>\n",
       "      <td>0.74</td>\n",
       "      <td>1.96</td>\n",
       "      <td>1.15</td>\n",
       "      <td>1.163647</td>\n",
       "      <td>4.475888</td>\n",
       "      <td>0.4970</td>\n",
       "      <td>0.75</td>\n",
       "      <td>0.50</td>\n",
       "    </tr>\n",
       "    <tr>\n",
       "      <th>2017-08-01</th>\n",
       "      <td>0.74</td>\n",
       "      <td>0.70</td>\n",
       "      <td>1.84</td>\n",
       "      <td>1.16</td>\n",
       "      <td>1.398626</td>\n",
       "      <td>2.618871</td>\n",
       "      <td>0.7475</td>\n",
       "      <td>1.00</td>\n",
       "      <td>0.75</td>\n",
       "    </tr>\n",
       "    <tr>\n",
       "      <th>2017-09-01</th>\n",
       "      <td>1.01</td>\n",
       "      <td>0.83</td>\n",
       "      <td>2.13</td>\n",
       "      <td>1.15</td>\n",
       "      <td>1.552801</td>\n",
       "      <td>1.699856</td>\n",
       "      <td>0.7588</td>\n",
       "      <td>1.00</td>\n",
       "      <td>0.75</td>\n",
       "    </tr>\n",
       "    <tr>\n",
       "      <th>2017-10-01</th>\n",
       "      <td>0.90</td>\n",
       "      <td>0.76</td>\n",
       "      <td>2.04</td>\n",
       "      <td>1.15</td>\n",
       "      <td>1.394292</td>\n",
       "      <td>1.557148</td>\n",
       "      <td>0.9693</td>\n",
       "      <td>1.25</td>\n",
       "      <td>1.00</td>\n",
       "    </tr>\n",
       "    <tr>\n",
       "      <th>...</th>\n",
       "      <td>...</td>\n",
       "      <td>...</td>\n",
       "      <td>...</td>\n",
       "      <td>...</td>\n",
       "      <td>...</td>\n",
       "      <td>...</td>\n",
       "      <td>...</td>\n",
       "      <td>...</td>\n",
       "      <td>...</td>\n",
       "    </tr>\n",
       "    <tr>\n",
       "      <th>2024-12-01</th>\n",
       "      <td>3.14</td>\n",
       "      <td>1.54</td>\n",
       "      <td>3.29</td>\n",
       "      <td>4.48</td>\n",
       "      <td>1.831979</td>\n",
       "      <td>-0.105260</td>\n",
       "      <td>3.7512</td>\n",
       "      <td>4.00</td>\n",
       "      <td>3.75</td>\n",
       "    </tr>\n",
       "    <tr>\n",
       "      <th>2025-01-01</th>\n",
       "      <td>2.96</td>\n",
       "      <td>1.45</td>\n",
       "      <td>3.18</td>\n",
       "      <td>4.33</td>\n",
       "      <td>1.895142</td>\n",
       "      <td>0.143734</td>\n",
       "      <td>3.2987</td>\n",
       "      <td>3.50</td>\n",
       "      <td>3.25</td>\n",
       "    </tr>\n",
       "    <tr>\n",
       "      <th>2025-02-01</th>\n",
       "      <td>2.84</td>\n",
       "      <td>1.33</td>\n",
       "      <td>2.98</td>\n",
       "      <td>4.33</td>\n",
       "      <td>2.644828</td>\n",
       "      <td>0.000000</td>\n",
       "      <td>3.0080</td>\n",
       "      <td>3.25</td>\n",
       "      <td>3.00</td>\n",
       "    </tr>\n",
       "    <tr>\n",
       "      <th>2025-03-01</th>\n",
       "      <td>2.65</td>\n",
       "      <td>1.49</td>\n",
       "      <td>3.12</td>\n",
       "      <td>4.33</td>\n",
       "      <td>2.315346</td>\n",
       "      <td>0.000000</td>\n",
       "      <td>2.9900</td>\n",
       "      <td>3.25</td>\n",
       "      <td>3.00</td>\n",
       "    </tr>\n",
       "    <tr>\n",
       "      <th>2025-04-01</th>\n",
       "      <td>2.65</td>\n",
       "      <td>1.60</td>\n",
       "      <td>3.07</td>\n",
       "      <td>4.33</td>\n",
       "      <td>1.805743</td>\n",
       "      <td>0.000000</td>\n",
       "      <td>2.7495</td>\n",
       "      <td>3.00</td>\n",
       "      <td>2.75</td>\n",
       "    </tr>\n",
       "  </tbody>\n",
       "</table>\n",
       "<p>95 rows × 9 columns</p>\n",
       "</div>"
      ],
      "text/plain": [
       "            bond_yield_1_yr  bond_yield_5_yr  bond_yield_10_yr  us_funds_rate  \\\n",
       "date                                                                            \n",
       "2017-06-01             0.68             0.58              1.61           1.04   \n",
       "2017-07-01             0.74             0.74              1.96           1.15   \n",
       "2017-08-01             0.74             0.70              1.84           1.16   \n",
       "2017-09-01             1.01             0.83              2.13           1.15   \n",
       "2017-10-01             0.90             0.76              2.04           1.15   \n",
       "...                     ...              ...               ...            ...   \n",
       "2024-12-01             3.14             1.54              3.29           4.48   \n",
       "2025-01-01             2.96             1.45              3.18           4.33   \n",
       "2025-02-01             2.84             1.33              2.98           4.33   \n",
       "2025-03-01             2.65             1.49              3.12           4.33   \n",
       "2025-04-01             2.65             1.60              3.07           4.33   \n",
       "\n",
       "             cpi_yoy  production_yoy  v39050  v39078  v39079  \n",
       "date                                                          \n",
       "2017-06-01  1.006945        7.074822  0.4987    0.75    0.50  \n",
       "2017-07-01  1.163647        4.475888  0.4970    0.75    0.50  \n",
       "2017-08-01  1.398626        2.618871  0.7475    1.00    0.75  \n",
       "2017-09-01  1.552801        1.699856  0.7588    1.00    0.75  \n",
       "2017-10-01  1.394292        1.557148  0.9693    1.25    1.00  \n",
       "...              ...             ...     ...     ...     ...  \n",
       "2024-12-01  1.831979       -0.105260  3.7512    4.00    3.75  \n",
       "2025-01-01  1.895142        0.143734  3.2987    3.50    3.25  \n",
       "2025-02-01  2.644828        0.000000  3.0080    3.25    3.00  \n",
       "2025-03-01  2.315346        0.000000  2.9900    3.25    3.00  \n",
       "2025-04-01  1.805743        0.000000  2.7495    3.00    2.75  \n",
       "\n",
       "[95 rows x 9 columns]"
      ]
     },
     "execution_count": 4,
     "metadata": {},
     "output_type": "execute_result"
    }
   ],
   "source": [
    "df"
   ]
  },
  {
   "cell_type": "code",
   "execution_count": 5,
   "id": "53a72b2f-36c0-41f4-ad80-1e21beb1b52b",
   "metadata": {},
   "outputs": [],
   "source": [
    "df.index = pd.DatetimeIndex(df.index, freq='MS')\n"
   ]
  },
  {
   "cell_type": "code",
   "execution_count": 6,
   "id": "fa7cf5e3-b764-4ee3-bde5-f7cc0e9277d1",
   "metadata": {},
   "outputs": [],
   "source": [
    "column_feature=['bond_yield_1_yr','bond_yield_5_yr','bond_yield_10_yr','us_funds_rate','cpi_yoy','production_yoy']\n",
    "column_target='v39078'"
   ]
  },
  {
   "cell_type": "code",
   "execution_count": null,
   "id": "a0770344-740f-4e41-b178-297c2d20fdd1",
   "metadata": {},
   "outputs": [],
   "source": []
  },
  {
   "cell_type": "code",
   "execution_count": 7,
   "id": "8c0a78d2-107c-4569-872d-95ecf2d88714",
   "metadata": {},
   "outputs": [],
   "source": [
    "from statsmodels.tsa.arima.model import ARIMA\n",
    "from sklearn.metrics import mean_squared_error\n",
    "from statsmodels.tsa.stattools import adfuller\n",
    "\n",
    "# Check stationarity of v39078\n",
    "def adf_test(series):\n",
    "    result = adfuller(series)\n",
    "    print('ADF Statistic:', result[0])\n",
    "    print('p-value:', result[1])\n",
    "    print('Critical Values:', result[4])\n",
    "    if result[1] <= 0.05:\n",
    "        print(\"Series is stationary\")\n",
    "    else:\n",
    "        print(\"Series is non-stationary\")\n"
   ]
  },
  {
   "cell_type": "code",
   "execution_count": 8,
   "id": "b9149b1b-0a5c-4aff-9881-5f8750d08e02",
   "metadata": {},
   "outputs": [
    {
     "name": "stdout",
     "output_type": "stream",
     "text": [
      "ADF Statistic: -1.7626495158030924\n",
      "p-value: 0.39915640482640985\n",
      "Critical Values: {'1%': -3.50434289821397, '5%': -2.8938659630479413, '10%': -2.5840147047458037}\n",
      "Series is non-stationary\n"
     ]
    }
   ],
   "source": [
    "adf_test(df[column_target])"
   ]
  },
  {
   "cell_type": "code",
   "execution_count": 9,
   "id": "3bbc7474-dc9e-4957-bfc7-15b7d790ed07",
   "metadata": {},
   "outputs": [
    {
     "name": "stdout",
     "output_type": "stream",
     "text": [
      "\n",
      "ADF Test for differenced rate:\n",
      "ADF Statistic: -2.7376807593364987\n",
      "p-value: 0.06774171833444405\n",
      "Critical Values: {'1%': -3.50434289821397, '5%': -2.8938659630479413, '10%': -2.5840147047458037}\n",
      "Series is non-stationary\n"
     ]
    }
   ],
   "source": [
    "df['rate_diff'] = df[column_target].diff().dropna()\n",
    "print(\"\\nADF Test for differenced rate:\")\n",
    "adf_test(df['rate_diff'].dropna())"
   ]
  },
  {
   "cell_type": "code",
   "execution_count": 10,
   "id": "5d65dc33-a18f-4160-9a47-de3e868275cb",
   "metadata": {},
   "outputs": [
    {
     "name": "stdout",
     "output_type": "stream",
     "text": [
      "ADF Statistic: -13.889323433641497\n",
      "p-value: 6.008227403497255e-26\n",
      "Critical Values: {'1%': -3.50434289821397, '5%': -2.8938659630479413, '10%': -2.5840147047458037}\n",
      "Series is stationary\n"
     ]
    }
   ],
   "source": [
    "df['rate_diff_2'] = df['rate_diff'].diff()\n",
    "adf_test(df['rate_diff_2'].dropna())"
   ]
  },
  {
   "cell_type": "code",
   "execution_count": null,
   "id": "17ff9767-2558-4c84-8f0d-fc1c107b5800",
   "metadata": {},
   "outputs": [],
   "source": []
  },
  {
   "cell_type": "code",
   "execution_count": 11,
   "id": "b3261e35-ba8d-44f7-aeb1-2c6dd1a9aef8",
   "metadata": {},
   "outputs": [],
   "source": [
    "train_size = int(len(df) * 0.85)\n",
    "df_train, df_test = df[:train_size], df[train_size:]"
   ]
  },
  {
   "cell_type": "code",
   "execution_count": 12,
   "id": "638a57c0-6be5-4b7b-bfdc-4da9e13dc8fa",
   "metadata": {},
   "outputs": [
    {
     "name": "stdout",
     "output_type": "stream",
     "text": [
      "Training period: 2017-06-01 to 2024-01-01\n",
      "Testing period: 2024-02-01 to 2025-04-01\n"
     ]
    }
   ],
   "source": [
    "print(f\"Training period: {df_train.index[0].date()} to {df_train.index[-1].date()}\")\n",
    "print(f\"Testing period: {df_test.index[0].date()} to {df_test.index[-1].date()}\")"
   ]
  },
  {
   "cell_type": "code",
   "execution_count": 13,
   "id": "e6f96cf9-c391-4647-9dd6-9360948a534e",
   "metadata": {},
   "outputs": [],
   "source": [
    "from statsmodels.graphics.tsaplots import plot_acf, plot_pacf"
   ]
  },
  {
   "cell_type": "code",
   "execution_count": 14,
   "id": "52a3e94d-3d88-43c1-a6bb-ce09163cbe60",
   "metadata": {},
   "outputs": [
    {
     "data": {
      "image/png": "[encoded data removed]",
      "text/plain": [
       "<Figure size 1200x600 with 2 Axes>"
      ]
     },
     "metadata": {},
     "output_type": "display_data"
    }
   ],
   "source": [
    "# Plot ACF and PACF for the second differenced series\n",
    "plt.figure(figsize=(12, 6))\n",
    "\n",
    "# ACF plot\n",
    "plt.subplot(121)\n",
    "plot_acf(df['rate_diff_2'].dropna(), lags=20, ax=plt.gca())\n",
    "plt.title('ACF Plot (rate_diff_2)')\n",
    "\n",
    "# PACF plot\n",
    "plt.subplot(122)\n",
    "plot_pacf(df['rate_diff_2'].dropna(), lags=20, ax=plt.gca())\n",
    "plt.title('PACF Plot (rate_diff_2)')\n",
    "\n",
    "plt.tight_layout()\n",
    "plt.show()"
   ]
  },
  {
   "cell_type": "code",
   "execution_count": 15,
   "id": "330825e9-6121-4239-a2a5-bfc9501f9249",
   "metadata": {},
   "outputs": [],
   "source": [
    "# using Arima first"
   ]
  },
  {
   "cell_type": "code",
   "execution_count": 16,
   "id": "9eadd4ec-cd5f-41f0-9284-a3b988920d73",
   "metadata": {},
   "outputs": [],
   "source": [
    "# choose Arima parameters\n",
    "p = 2 #(from PACF) Autoregressive order (AR) \tNumber of past values used in the model\n",
    "d = 2 #(from ADF test)  \tDifferencing order (I)\tNumber of times the data is differenced to make it stationary\n",
    "q = 1 #(from ACF) Moving Average order (MA) \tNumber of past forecast errors used in the model\n",
    "\n"
   ]
  },
  {
   "cell_type": "code",
   "execution_count": 17,
   "id": "cfdb2f7d-d8c8-42a6-8305-3c392b214cf7",
   "metadata": {},
   "outputs": [
    {
     "name": "stderr",
     "output_type": "stream",
     "text": [
      "C:\\Users\\liuliu\\anaconda3\\envs\\invest_agent\\Lib\\site-packages\\statsmodels\\base\\model.py:607: ConvergenceWarning: Maximum Likelihood optimization failed to converge. Check mle_retvals\n",
      "  warnings.warn(\"Maximum Likelihood optimization failed to \"\n"
     ]
    }
   ],
   "source": [
    "# Fit ARIMAX model with order (2,2,1)\n",
    "model_arima = ARIMA(df_train[column_target], exog=df_train[column_feature], order=(2,2,1))\n",
    "model_arima_fit = model_arima.fit()"
   ]
  },
  {
   "cell_type": "code",
   "execution_count": 18,
   "id": "b58afdf6-ca9d-4f4d-b967-766800369cbf",
   "metadata": {},
   "outputs": [
    {
     "name": "stdout",
     "output_type": "stream",
     "text": [
      "                               SARIMAX Results                                \n",
      "==============================================================================\n",
      "Dep. Variable:                 v39078   No. Observations:                   80\n",
      "Model:                 ARIMA(2, 2, 1)   Log Likelihood                  28.936\n",
      "Date:                Fri, 16 May 2025   AIC                            -37.871\n",
      "Time:                        05:02:47   BIC                            -14.304\n",
      "Sample:                    06-01-2017   HQIC                           -28.437\n",
      "                         - 01-01-2024                                         \n",
      "Covariance Type:                  opg                                         \n",
      "====================================================================================\n",
      "                       coef    std err          z      P>|z|      [0.025      0.975]\n",
      "------------------------------------------------------------------------------------\n",
      "bond_yield_1_yr     -0.1022      0.146     -0.699      0.485      -0.389       0.184\n",
      "bond_yield_5_yr      0.6471      0.165      3.922      0.000       0.324       0.971\n",
      "bond_yield_10_yr    -0.3684      0.158     -2.331      0.020      -0.678      -0.059\n",
      "us_funds_rate        0.9201      0.121      7.604      0.000       0.683       1.157\n",
      "cpi_yoy              0.0061      0.054      0.114      0.909      -0.099       0.112\n",
      "production_yoy       0.0113      0.007      1.690      0.091      -0.002       0.024\n",
      "ar.L1               -0.2103      0.177     -1.191      0.234      -0.556       0.136\n",
      "ar.L2               -0.1764      0.137     -1.286      0.199      -0.445       0.093\n",
      "ma.L1               -0.9922      0.564     -1.760      0.078      -2.097       0.113\n",
      "sigma2               0.0263      0.013      2.044      0.041       0.001       0.051\n",
      "===================================================================================\n",
      "Ljung-Box (L1) (Q):                   0.00   Jarque-Bera (JB):                21.23\n",
      "Prob(Q):                              0.99   Prob(JB):                         0.00\n",
      "Heteroskedasticity (H):               1.48   Skew:                            -0.33\n",
      "Prob(H) (two-sided):                  0.32   Kurtosis:                         5.47\n",
      "===================================================================================\n",
      "\n",
      "Warnings:\n",
      "[1] Covariance matrix calculated using the outer product of gradients (complex-step).\n"
     ]
    }
   ],
   "source": [
    "print(model_arima_fit.summary())"
   ]
  },
  {
   "cell_type": "code",
   "execution_count": 19,
   "id": "62a5557e-5a76-43e3-888a-11cf95051286",
   "metadata": {},
   "outputs": [
    {
     "name": "stderr",
     "output_type": "stream",
     "text": [
      "C:\\Users\\liuliu\\anaconda3\\envs\\invest_agent\\Lib\\site-packages\\statsmodels\\base\\model.py:607: ConvergenceWarning: Maximum Likelihood optimization failed to converge. Check mle_retvals\n",
      "  warnings.warn(\"Maximum Likelihood optimization failed to \"\n"
     ]
    }
   ],
   "source": [
    "#These features have high P value, not significant\n",
    "#bond_yield_1_yr , cpi_yoy    , production_yoy , ar.L1 ,ar.L2 ,ma.L1  \n",
    "\n",
    "column_feature_new=['bond_yield_5_yr', 'bond_yield_10_yr', 'us_funds_rate']\n",
    "# Fit ARIMAX model with order (2,2,1)\n",
    "model_arima = ARIMA(df_train[column_target], exog=df_train[column_feature_new], order=(2,2,1))\n",
    "model_arima_fit = model_arima.fit()"
   ]
  },
  {
   "cell_type": "code",
   "execution_count": 20,
   "id": "458763b4-4372-4d57-bc33-d5fd55b1dbbc",
   "metadata": {},
   "outputs": [
    {
     "name": "stdout",
     "output_type": "stream",
     "text": [
      "                               SARIMAX Results                                \n",
      "==============================================================================\n",
      "Dep. Variable:                 v39078   No. Observations:                   80\n",
      "Model:                 ARIMA(2, 2, 1)   Log Likelihood                  26.485\n",
      "Date:                Fri, 16 May 2025   AIC                            -38.969\n",
      "Time:                        05:02:47   BIC                            -22.472\n",
      "Sample:                    06-01-2017   HQIC                           -32.365\n",
      "                         - 01-01-2024                                         \n",
      "Covariance Type:                  opg                                         \n",
      "====================================================================================\n",
      "                       coef    std err          z      P>|z|      [0.025      0.975]\n",
      "------------------------------------------------------------------------------------\n",
      "bond_yield_5_yr      0.5709      0.118      4.823      0.000       0.339       0.803\n",
      "bond_yield_10_yr    -0.3132      0.126     -2.493      0.013      -0.559      -0.067\n",
      "us_funds_rate        0.8650      0.087      9.898      0.000       0.694       1.036\n",
      "ar.L1               -0.2846      0.140     -2.036      0.042      -0.559      -0.011\n",
      "ar.L2               -0.2122      0.131     -1.621      0.105      -0.469       0.044\n",
      "ma.L1               -0.9988      2.823     -0.354      0.723      -6.532       4.534\n",
      "sigma2               0.0278      0.076      0.365      0.715      -0.121       0.177\n",
      "===================================================================================\n",
      "Ljung-Box (L1) (Q):                   0.00   Jarque-Bera (JB):               128.68\n",
      "Prob(Q):                              0.99   Prob(JB):                         0.00\n",
      "Heteroskedasticity (H):               1.46   Skew:                            -1.12\n",
      "Prob(H) (two-sided):                  0.34   Kurtosis:                         8.88\n",
      "===================================================================================\n",
      "\n",
      "Warnings:\n",
      "[1] Covariance matrix calculated using the outer product of gradients (complex-step).\n"
     ]
    }
   ],
   "source": [
    "print(model_arima_fit.summary())"
   ]
  },
  {
   "cell_type": "code",
   "execution_count": 21,
   "id": "37783d62-4e84-45b8-ab3a-e52bd43dadfb",
   "metadata": {},
   "outputs": [],
   "source": [
    "# Step 7: Forecast\n",
    "forecast_steps = len(df_test)\n",
    "forecast = model_arima_fit.forecast(steps=forecast_steps, exog=df_test[column_feature_new])"
   ]
  },
  {
   "cell_type": "code",
   "execution_count": 22,
   "id": "804ae379-a7df-4f7e-9b99-24532525b717",
   "metadata": {},
   "outputs": [
    {
     "name": "stdout",
     "output_type": "stream",
     "text": [
      "RMSE: 0.7552663494034696\n"
     ]
    }
   ],
   "source": [
    "rmse = np.sqrt(mean_squared_error(df_test[column_target], forecast))\n",
    "print(f'RMSE: {rmse}')"
   ]
  },
  {
   "cell_type": "code",
   "execution_count": 23,
   "id": "223c9e5c-aba7-4111-b653-3ac77a2f08a6",
   "metadata": {},
   "outputs": [
    {
     "data": {
      "image/png": "[encoded data removed]",
      "text/plain": [
       "<Figure size 1000x600 with 1 Axes>"
      ]
     },
     "metadata": {},
     "output_type": "display_data"
    }
   ],
   "source": [
    "# Plot results\n",
    "plt.figure(figsize=(10, 6))\n",
    "plt.plot(df_train.index, df_train[column_target], label='Train')\n",
    "plt.plot(df_test.index, df_test[column_target], label='Test')\n",
    "plt.plot(df_test.index, forecast, label='Forecast')\n",
    "plt.title('ARIMAX Forecast for rate (Order: 1,2,1)')\n",
    "plt.xlabel('Date')\n",
    "plt.ylabel('Interest Rate ')\n",
    "plt.legend()\n",
    "plt.show()"
   ]
  },
  {
   "cell_type": "code",
   "execution_count": 24,
   "id": "c4b87da3-1442-4d2e-b56f-4304aa8181fc",
   "metadata": {},
   "outputs": [],
   "source": [
    "model_arima = ARIMA(df[column_target], exog=df[column_feature_new], order=(2,2,1))\n",
    "model_arima_fit = model_arima.fit()"
   ]
  },
  {
   "cell_type": "code",
   "execution_count": 25,
   "id": "5cc980a2-73de-4e4a-916a-0063454e946c",
   "metadata": {},
   "outputs": [
    {
     "data": {
      "text/html": [
       "<div>\n",
       "<style scoped>\n",
       "    .dataframe tbody tr th:only-of-type {\n",
       "        vertical-align: middle;\n",
       "    }\n",
       "\n",
       "    .dataframe tbody tr th {\n",
       "        vertical-align: top;\n",
       "    }\n",
       "\n",
       "    .dataframe thead th {\n",
       "        text-align: right;\n",
       "    }\n",
       "</style>\n",
       "<table border=\"1\" class=\"dataframe\">\n",
       "  <thead>\n",
       "    <tr style=\"text-align: right;\">\n",
       "      <th></th>\n",
       "      <th>bond_yield_5_yr</th>\n",
       "      <th>bond_yield_10_yr</th>\n",
       "      <th>us_funds_rate</th>\n",
       "    </tr>\n",
       "  </thead>\n",
       "  <tbody>\n",
       "    <tr>\n",
       "      <th>2025-05-01</th>\n",
       "      <td>1.6</td>\n",
       "      <td>3.07</td>\n",
       "      <td>4.33</td>\n",
       "    </tr>\n",
       "    <tr>\n",
       "      <th>2025-06-01</th>\n",
       "      <td>1.6</td>\n",
       "      <td>3.07</td>\n",
       "      <td>4.33</td>\n",
       "    </tr>\n",
       "    <tr>\n",
       "      <th>2025-07-01</th>\n",
       "      <td>1.6</td>\n",
       "      <td>3.07</td>\n",
       "      <td>4.33</td>\n",
       "    </tr>\n",
       "    <tr>\n",
       "      <th>2025-08-01</th>\n",
       "      <td>1.6</td>\n",
       "      <td>3.07</td>\n",
       "      <td>4.33</td>\n",
       "    </tr>\n",
       "    <tr>\n",
       "      <th>2025-09-01</th>\n",
       "      <td>1.6</td>\n",
       "      <td>3.07</td>\n",
       "      <td>4.33</td>\n",
       "    </tr>\n",
       "    <tr>\n",
       "      <th>2025-10-01</th>\n",
       "      <td>1.6</td>\n",
       "      <td>3.07</td>\n",
       "      <td>4.33</td>\n",
       "    </tr>\n",
       "  </tbody>\n",
       "</table>\n",
       "</div>"
      ],
      "text/plain": [
       "            bond_yield_5_yr  bond_yield_10_yr  us_funds_rate\n",
       "2025-05-01              1.6              3.07           4.33\n",
       "2025-06-01              1.6              3.07           4.33\n",
       "2025-07-01              1.6              3.07           4.33\n",
       "2025-08-01              1.6              3.07           4.33\n",
       "2025-09-01              1.6              3.07           4.33\n",
       "2025-10-01              1.6              3.07           4.33"
      ]
     },
     "execution_count": 25,
     "metadata": {},
     "output_type": "execute_result"
    }
   ],
   "source": [
    "\n",
    "future_exog = df[column_feature_new].iloc[-1:].copy()\n",
    "# Repeat the last row 6 times while keeping it as a DataFrame\n",
    "future_exog = pd.DataFrame(\n",
    "    np.repeat(future_exog.values, 6, axis=0),\n",
    "    columns=future_exog.columns,\n",
    "    index=pd.date_range(start=df.index[-1] + pd.offsets.MonthBegin(1), periods=6, freq='MS')\n",
    ")\n",
    "future_exog"
   ]
  },
  {
   "cell_type": "code",
   "execution_count": 26,
   "id": "5d390a9e-54ea-45ca-94d6-95dce181b478",
   "metadata": {},
   "outputs": [
    {
     "name": "stdout",
     "output_type": "stream",
     "text": [
      "\n",
      "Future Forecast for v39078 (6 months ahead):\n",
      "2025-05-01    2.958855\n",
      "2025-06-01    2.889362\n",
      "2025-07-01    2.761965\n",
      "2025-08-01    2.660640\n",
      "2025-09-01    2.564579\n",
      "2025-10-01    2.460495\n",
      "Freq: MS, Name: predicted_mean, dtype: float64\n"
     ]
    }
   ],
   "source": [
    "future_forecast = model_arima_fit.forecast(steps=6, exog=future_exog)\n",
    "future_dates = pd.date_range(start=df.index[-1] + pd.offsets.MonthBegin(1), periods=6, freq='MS')\n",
    "future_series = pd.Series(future_forecast, index=future_dates)\n",
    "print(\"\\nFuture Forecast for v39078 (6 months ahead):\")\n",
    "print(future_series)"
   ]
  },
  {
   "cell_type": "code",
   "execution_count": 27,
   "id": "995af870-4c34-44b4-8db9-fc1c62adebe7",
   "metadata": {},
   "outputs": [],
   "source": [
    "future_exog['yhat']=future_series\n",
    "future_exog['model']='Arima'\n",
    "future_exog['type']='future'\n",
    "future_exog['v39078']=None\n",
    "\n",
    "df_output_test=df_test[['bond_yield_5_yr','bond_yield_10_yr','us_funds_rate']]\n",
    "df_output_test['yhat']=forecast\n",
    "df_output_test['model']='Arima'\n",
    "df_output_test['type']='test'\n"
   ]
  },
  {
   "cell_type": "code",
   "execution_count": 28,
   "id": "2fffd9d3-ae10-46fa-880a-51bd308abd82",
   "metadata": {},
   "outputs": [],
   "source": [
    "df_orig=df[['bond_yield_5_yr','bond_yield_10_yr','us_funds_rate','v39078']].copy()\n",
    "df_orig=df_orig.merge(df_output_test[['yhat','model','type']],  how='left', left_index=True, right_index=True)\n",
    "union_df = pd.concat([df_orig,future_exog ])"
   ]
  },
  {
   "cell_type": "code",
   "execution_count": 29,
   "id": "2c446431-58b0-43b9-87cc-28cd8c4b57a5",
   "metadata": {},
   "outputs": [],
   "source": [
    "union_df['model']='Arima'\n",
    "union_df['type']=union_df['type'].fillna('train')"
   ]
  },
  {
   "cell_type": "code",
   "execution_count": 30,
   "id": "49252401-7640-4a9b-b279-5176034c29a6",
   "metadata": {},
   "outputs": [],
   "source": [
    "union_df.to_csv(\"model_forecast_arima.csv\",index_label='date')"
   ]
  },
  {
   "cell_type": "code",
   "execution_count": null,
   "id": "51c6e3d8-336b-4bf8-8b0f-7cb69a50e968",
   "metadata": {},
   "outputs": [],
   "source": []
  }
 ],
 "metadata": {
  "kernelspec": {
   "display_name": "Python 3 (ipykernel)",
   "language": "python",
   "name": "python3"
  },
  "language_info": {
   "codemirror_mode": {
    "name": "ipython",
    "version": 3
   },
   "file_extension": ".py",
   "mimetype": "text/x-python",
   "name": "python",
   "nbconvert_exporter": "python",
   "pygments_lexer": "ipython3",
   "version": "3.11.11"
  }
 },
 "nbformat": 4,
 "nbformat_minor": 5
}
