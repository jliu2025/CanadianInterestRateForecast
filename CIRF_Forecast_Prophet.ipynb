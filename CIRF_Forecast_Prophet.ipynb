{
 "cells": [
  {
   "cell_type": "code",
   "execution_count": 1,
   "id": "e218e61a-e819-4e3c-a5d1-d87b15c843cd",
   "metadata": {},
   "outputs": [
    {
     "name": "stderr",
     "output_type": "stream",
     "text": [
      "C:\\Users\\liuliu\\anaconda3\\envs\\invest_agent\\Lib\\site-packages\\tqdm\\auto.py:21: TqdmWarning: IProgress not found. Please update jupyter and ipywidgets. See https://ipywidgets.readthedocs.io/en/stable/user_install.html\n",
      "  from .autonotebook import tqdm as notebook_tqdm\n",
      "Importing plotly failed. Interactive plots will not work.\n"
     ]
    }
   ],
   "source": [
    "\n",
    "import datetime\n",
    "import pandas as pd\n",
    "import matplotlib.mlab as mlab\n",
    "import matplotlib.pyplot as plt\n",
    "import datetime\n",
    "import numpy as np\n",
    "import requests\n",
    "from functools import reduce\n",
    "from prophet import Prophet\n",
    "from sklearn.metrics import mean_squared_error\n",
    "import warnings\n",
    "warnings.filterwarnings('ignore')"
   ]
  },
  {
   "cell_type": "code",
   "execution_count": 2,
   "id": "8ade75e7-d0c4-4033-b70a-1a2a0312e518",
   "metadata": {},
   "outputs": [],
   "source": [
    "df=pd.read_csv(\"df_combined.csv\", index_col=False)"
   ]
  },
  {
   "cell_type": "code",
   "execution_count": 3,
   "id": "6b200ef1-c24f-4d44-9bf1-8a86c126d6d8",
   "metadata": {},
   "outputs": [],
   "source": [
    "df = df.iloc[:, 1:]\n",
    "df.set_index('date', inplace=True)\n",
    "df.index = pd.DatetimeIndex(df.index, freq='MS')"
   ]
  },
  {
   "cell_type": "code",
   "execution_count": 4,
   "id": "dd010916-0c76-4cdd-91f5-69eb092be1d3",
   "metadata": {},
   "outputs": [
    {
     "data": {
      "text/html": [
       "<div>\n",
       "<style scoped>\n",
       "    .dataframe tbody tr th:only-of-type {\n",
       "        vertical-align: middle;\n",
       "    }\n",
       "\n",
       "    .dataframe tbody tr th {\n",
       "        vertical-align: top;\n",
       "    }\n",
       "\n",
       "    .dataframe thead th {\n",
       "        text-align: right;\n",
       "    }\n",
       "</style>\n",
       "<table border=\"1\" class=\"dataframe\">\n",
       "  <thead>\n",
       "    <tr style=\"text-align: right;\">\n",
       "      <th></th>\n",
       "      <th>bond_yield_1_yr</th>\n",
       "      <th>bond_yield_5_yr</th>\n",
       "      <th>bond_yield_10_yr</th>\n",
       "      <th>us_funds_rate</th>\n",
       "      <th>cpi_yoy</th>\n",
       "      <th>production_yoy</th>\n",
       "      <th>v39050</th>\n",
       "      <th>v39078</th>\n",
       "      <th>v39079</th>\n",
       "    </tr>\n",
       "    <tr>\n",
       "      <th>date</th>\n",
       "      <th></th>\n",
       "      <th></th>\n",
       "      <th></th>\n",
       "      <th></th>\n",
       "      <th></th>\n",
       "      <th></th>\n",
       "      <th></th>\n",
       "      <th></th>\n",
       "      <th></th>\n",
       "    </tr>\n",
       "  </thead>\n",
       "  <tbody>\n",
       "    <tr>\n",
       "      <th>2017-06-01</th>\n",
       "      <td>0.68</td>\n",
       "      <td>0.58</td>\n",
       "      <td>1.61</td>\n",
       "      <td>1.04</td>\n",
       "      <td>1.006945</td>\n",
       "      <td>7.074822</td>\n",
       "      <td>0.4987</td>\n",
       "      <td>0.75</td>\n",
       "      <td>0.50</td>\n",
       "    </tr>\n",
       "    <tr>\n",
       "      <th>2017-07-01</th>\n",
       "      <td>0.74</td>\n",
       "      <td>0.74</td>\n",
       "      <td>1.96</td>\n",
       "      <td>1.15</td>\n",
       "      <td>1.163647</td>\n",
       "      <td>4.475888</td>\n",
       "      <td>0.4970</td>\n",
       "      <td>0.75</td>\n",
       "      <td>0.50</td>\n",
       "    </tr>\n",
       "    <tr>\n",
       "      <th>2017-08-01</th>\n",
       "      <td>0.74</td>\n",
       "      <td>0.70</td>\n",
       "      <td>1.84</td>\n",
       "      <td>1.16</td>\n",
       "      <td>1.398626</td>\n",
       "      <td>2.618871</td>\n",
       "      <td>0.7475</td>\n",
       "      <td>1.00</td>\n",
       "      <td>0.75</td>\n",
       "    </tr>\n",
       "    <tr>\n",
       "      <th>2017-09-01</th>\n",
       "      <td>1.01</td>\n",
       "      <td>0.83</td>\n",
       "      <td>2.13</td>\n",
       "      <td>1.15</td>\n",
       "      <td>1.552801</td>\n",
       "      <td>1.699856</td>\n",
       "      <td>0.7588</td>\n",
       "      <td>1.00</td>\n",
       "      <td>0.75</td>\n",
       "    </tr>\n",
       "    <tr>\n",
       "      <th>2017-10-01</th>\n",
       "      <td>0.90</td>\n",
       "      <td>0.76</td>\n",
       "      <td>2.04</td>\n",
       "      <td>1.15</td>\n",
       "      <td>1.394292</td>\n",
       "      <td>1.557148</td>\n",
       "      <td>0.9693</td>\n",
       "      <td>1.25</td>\n",
       "      <td>1.00</td>\n",
       "    </tr>\n",
       "    <tr>\n",
       "      <th>...</th>\n",
       "      <td>...</td>\n",
       "      <td>...</td>\n",
       "      <td>...</td>\n",
       "      <td>...</td>\n",
       "      <td>...</td>\n",
       "      <td>...</td>\n",
       "      <td>...</td>\n",
       "      <td>...</td>\n",
       "      <td>...</td>\n",
       "    </tr>\n",
       "    <tr>\n",
       "      <th>2024-12-01</th>\n",
       "      <td>3.14</td>\n",
       "      <td>1.54</td>\n",
       "      <td>3.29</td>\n",
       "      <td>4.48</td>\n",
       "      <td>1.831979</td>\n",
       "      <td>-0.105260</td>\n",
       "      <td>3.7512</td>\n",
       "      <td>4.00</td>\n",
       "      <td>3.75</td>\n",
       "    </tr>\n",
       "    <tr>\n",
       "      <th>2025-01-01</th>\n",
       "      <td>2.96</td>\n",
       "      <td>1.45</td>\n",
       "      <td>3.18</td>\n",
       "      <td>4.33</td>\n",
       "      <td>1.895142</td>\n",
       "      <td>0.143734</td>\n",
       "      <td>3.2987</td>\n",
       "      <td>3.50</td>\n",
       "      <td>3.25</td>\n",
       "    </tr>\n",
       "    <tr>\n",
       "      <th>2025-02-01</th>\n",
       "      <td>2.84</td>\n",
       "      <td>1.33</td>\n",
       "      <td>2.98</td>\n",
       "      <td>4.33</td>\n",
       "      <td>2.644828</td>\n",
       "      <td>0.000000</td>\n",
       "      <td>3.0080</td>\n",
       "      <td>3.25</td>\n",
       "      <td>3.00</td>\n",
       "    </tr>\n",
       "    <tr>\n",
       "      <th>2025-03-01</th>\n",
       "      <td>2.65</td>\n",
       "      <td>1.49</td>\n",
       "      <td>3.12</td>\n",
       "      <td>4.33</td>\n",
       "      <td>2.315346</td>\n",
       "      <td>0.000000</td>\n",
       "      <td>2.9900</td>\n",
       "      <td>3.25</td>\n",
       "      <td>3.00</td>\n",
       "    </tr>\n",
       "    <tr>\n",
       "      <th>2025-04-01</th>\n",
       "      <td>2.65</td>\n",
       "      <td>1.60</td>\n",
       "      <td>3.07</td>\n",
       "      <td>4.33</td>\n",
       "      <td>1.805743</td>\n",
       "      <td>0.000000</td>\n",
       "      <td>2.7495</td>\n",
       "      <td>3.00</td>\n",
       "      <td>2.75</td>\n",
       "    </tr>\n",
       "  </tbody>\n",
       "</table>\n",
       "<p>95 rows × 9 columns</p>\n",
       "</div>"
      ],
      "text/plain": [
       "            bond_yield_1_yr  bond_yield_5_yr  bond_yield_10_yr  us_funds_rate  \\\n",
       "date                                                                            \n",
       "2017-06-01             0.68             0.58              1.61           1.04   \n",
       "2017-07-01             0.74             0.74              1.96           1.15   \n",
       "2017-08-01             0.74             0.70              1.84           1.16   \n",
       "2017-09-01             1.01             0.83              2.13           1.15   \n",
       "2017-10-01             0.90             0.76              2.04           1.15   \n",
       "...                     ...              ...               ...            ...   \n",
       "2024-12-01             3.14             1.54              3.29           4.48   \n",
       "2025-01-01             2.96             1.45              3.18           4.33   \n",
       "2025-02-01             2.84             1.33              2.98           4.33   \n",
       "2025-03-01             2.65             1.49              3.12           4.33   \n",
       "2025-04-01             2.65             1.60              3.07           4.33   \n",
       "\n",
       "             cpi_yoy  production_yoy  v39050  v39078  v39079  \n",
       "date                                                          \n",
       "2017-06-01  1.006945        7.074822  0.4987    0.75    0.50  \n",
       "2017-07-01  1.163647        4.475888  0.4970    0.75    0.50  \n",
       "2017-08-01  1.398626        2.618871  0.7475    1.00    0.75  \n",
       "2017-09-01  1.552801        1.699856  0.7588    1.00    0.75  \n",
       "2017-10-01  1.394292        1.557148  0.9693    1.25    1.00  \n",
       "...              ...             ...     ...     ...     ...  \n",
       "2024-12-01  1.831979       -0.105260  3.7512    4.00    3.75  \n",
       "2025-01-01  1.895142        0.143734  3.2987    3.50    3.25  \n",
       "2025-02-01  2.644828        0.000000  3.0080    3.25    3.00  \n",
       "2025-03-01  2.315346        0.000000  2.9900    3.25    3.00  \n",
       "2025-04-01  1.805743        0.000000  2.7495    3.00    2.75  \n",
       "\n",
       "[95 rows x 9 columns]"
      ]
     },
     "execution_count": 4,
     "metadata": {},
     "output_type": "execute_result"
    }
   ],
   "source": [
    "df"
   ]
  },
  {
   "cell_type": "code",
   "execution_count": 5,
   "id": "53a72b2f-36c0-41f4-ad80-1e21beb1b52b",
   "metadata": {},
   "outputs": [],
   "source": [
    "# Prophet requires columns 'ds' (date) and 'y' (target)\n",
    "df_prophet = df.reset_index().rename(columns={'date': 'ds', 'v39078': 'y'})"
   ]
  },
  {
   "cell_type": "code",
   "execution_count": 6,
   "id": "fa7cf5e3-b764-4ee3-bde5-f7cc0e9277d1",
   "metadata": {},
   "outputs": [],
   "source": [
    "column_feature=['bond_yield_1_yr','bond_yield_5_yr','bond_yield_10_yr','us_funds_rate','cpi_yoy','production_yoy']"
   ]
  },
  {
   "cell_type": "code",
   "execution_count": 7,
   "id": "a0770344-740f-4e41-b178-297c2d20fdd1",
   "metadata": {},
   "outputs": [
    {
     "data": {
      "text/html": [
       "<div>\n",
       "<style scoped>\n",
       "    .dataframe tbody tr th:only-of-type {\n",
       "        vertical-align: middle;\n",
       "    }\n",
       "\n",
       "    .dataframe tbody tr th {\n",
       "        vertical-align: top;\n",
       "    }\n",
       "\n",
       "    .dataframe thead th {\n",
       "        text-align: right;\n",
       "    }\n",
       "</style>\n",
       "<table border=\"1\" class=\"dataframe\">\n",
       "  <thead>\n",
       "    <tr style=\"text-align: right;\">\n",
       "      <th></th>\n",
       "      <th>ds</th>\n",
       "      <th>bond_yield_1_yr</th>\n",
       "      <th>bond_yield_5_yr</th>\n",
       "      <th>bond_yield_10_yr</th>\n",
       "      <th>us_funds_rate</th>\n",
       "      <th>cpi_yoy</th>\n",
       "      <th>production_yoy</th>\n",
       "      <th>y</th>\n",
       "    </tr>\n",
       "  </thead>\n",
       "  <tbody>\n",
       "    <tr>\n",
       "      <th>0</th>\n",
       "      <td>2017-06-01</td>\n",
       "      <td>0.68</td>\n",
       "      <td>0.58</td>\n",
       "      <td>1.61</td>\n",
       "      <td>1.04</td>\n",
       "      <td>1.006945</td>\n",
       "      <td>7.074822</td>\n",
       "      <td>0.75</td>\n",
       "    </tr>\n",
       "    <tr>\n",
       "      <th>1</th>\n",
       "      <td>2017-07-01</td>\n",
       "      <td>0.74</td>\n",
       "      <td>0.74</td>\n",
       "      <td>1.96</td>\n",
       "      <td>1.15</td>\n",
       "      <td>1.163647</td>\n",
       "      <td>4.475888</td>\n",
       "      <td>0.75</td>\n",
       "    </tr>\n",
       "    <tr>\n",
       "      <th>2</th>\n",
       "      <td>2017-08-01</td>\n",
       "      <td>0.74</td>\n",
       "      <td>0.70</td>\n",
       "      <td>1.84</td>\n",
       "      <td>1.16</td>\n",
       "      <td>1.398626</td>\n",
       "      <td>2.618871</td>\n",
       "      <td>1.00</td>\n",
       "    </tr>\n",
       "    <tr>\n",
       "      <th>3</th>\n",
       "      <td>2017-09-01</td>\n",
       "      <td>1.01</td>\n",
       "      <td>0.83</td>\n",
       "      <td>2.13</td>\n",
       "      <td>1.15</td>\n",
       "      <td>1.552801</td>\n",
       "      <td>1.699856</td>\n",
       "      <td>1.00</td>\n",
       "    </tr>\n",
       "    <tr>\n",
       "      <th>4</th>\n",
       "      <td>2017-10-01</td>\n",
       "      <td>0.90</td>\n",
       "      <td>0.76</td>\n",
       "      <td>2.04</td>\n",
       "      <td>1.15</td>\n",
       "      <td>1.394292</td>\n",
       "      <td>1.557148</td>\n",
       "      <td>1.25</td>\n",
       "    </tr>\n",
       "    <tr>\n",
       "      <th>...</th>\n",
       "      <td>...</td>\n",
       "      <td>...</td>\n",
       "      <td>...</td>\n",
       "      <td>...</td>\n",
       "      <td>...</td>\n",
       "      <td>...</td>\n",
       "      <td>...</td>\n",
       "      <td>...</td>\n",
       "    </tr>\n",
       "    <tr>\n",
       "      <th>90</th>\n",
       "      <td>2024-12-01</td>\n",
       "      <td>3.14</td>\n",
       "      <td>1.54</td>\n",
       "      <td>3.29</td>\n",
       "      <td>4.48</td>\n",
       "      <td>1.831979</td>\n",
       "      <td>-0.105260</td>\n",
       "      <td>4.00</td>\n",
       "    </tr>\n",
       "    <tr>\n",
       "      <th>91</th>\n",
       "      <td>2025-01-01</td>\n",
       "      <td>2.96</td>\n",
       "      <td>1.45</td>\n",
       "      <td>3.18</td>\n",
       "      <td>4.33</td>\n",
       "      <td>1.895142</td>\n",
       "      <td>0.143734</td>\n",
       "      <td>3.50</td>\n",
       "    </tr>\n",
       "    <tr>\n",
       "      <th>92</th>\n",
       "      <td>2025-02-01</td>\n",
       "      <td>2.84</td>\n",
       "      <td>1.33</td>\n",
       "      <td>2.98</td>\n",
       "      <td>4.33</td>\n",
       "      <td>2.644828</td>\n",
       "      <td>0.000000</td>\n",
       "      <td>3.25</td>\n",
       "    </tr>\n",
       "    <tr>\n",
       "      <th>93</th>\n",
       "      <td>2025-03-01</td>\n",
       "      <td>2.65</td>\n",
       "      <td>1.49</td>\n",
       "      <td>3.12</td>\n",
       "      <td>4.33</td>\n",
       "      <td>2.315346</td>\n",
       "      <td>0.000000</td>\n",
       "      <td>3.25</td>\n",
       "    </tr>\n",
       "    <tr>\n",
       "      <th>94</th>\n",
       "      <td>2025-04-01</td>\n",
       "      <td>2.65</td>\n",
       "      <td>1.60</td>\n",
       "      <td>3.07</td>\n",
       "      <td>4.33</td>\n",
       "      <td>1.805743</td>\n",
       "      <td>0.000000</td>\n",
       "      <td>3.00</td>\n",
       "    </tr>\n",
       "  </tbody>\n",
       "</table>\n",
       "<p>95 rows × 8 columns</p>\n",
       "</div>"
      ],
      "text/plain": [
       "           ds  bond_yield_1_yr  bond_yield_5_yr  bond_yield_10_yr  \\\n",
       "0  2017-06-01             0.68             0.58              1.61   \n",
       "1  2017-07-01             0.74             0.74              1.96   \n",
       "2  2017-08-01             0.74             0.70              1.84   \n",
       "3  2017-09-01             1.01             0.83              2.13   \n",
       "4  2017-10-01             0.90             0.76              2.04   \n",
       "..        ...              ...              ...               ...   \n",
       "90 2024-12-01             3.14             1.54              3.29   \n",
       "91 2025-01-01             2.96             1.45              3.18   \n",
       "92 2025-02-01             2.84             1.33              2.98   \n",
       "93 2025-03-01             2.65             1.49              3.12   \n",
       "94 2025-04-01             2.65             1.60              3.07   \n",
       "\n",
       "    us_funds_rate   cpi_yoy  production_yoy     y  \n",
       "0            1.04  1.006945        7.074822  0.75  \n",
       "1            1.15  1.163647        4.475888  0.75  \n",
       "2            1.16  1.398626        2.618871  1.00  \n",
       "3            1.15  1.552801        1.699856  1.00  \n",
       "4            1.15  1.394292        1.557148  1.25  \n",
       "..            ...       ...             ...   ...  \n",
       "90           4.48  1.831979       -0.105260  4.00  \n",
       "91           4.33  1.895142        0.143734  3.50  \n",
       "92           4.33  2.644828        0.000000  3.25  \n",
       "93           4.33  2.315346        0.000000  3.25  \n",
       "94           4.33  1.805743        0.000000  3.00  \n",
       "\n",
       "[95 rows x 8 columns]"
      ]
     },
     "execution_count": 7,
     "metadata": {},
     "output_type": "execute_result"
    }
   ],
   "source": [
    "del df_prophet['v39050']\n",
    "del df_prophet['v39079']\n",
    "df_prophet"
   ]
  },
  {
   "cell_type": "code",
   "execution_count": 8,
   "id": "8c0a78d2-107c-4569-872d-95ecf2d88714",
   "metadata": {},
   "outputs": [
    {
     "name": "stdout",
     "output_type": "stream",
     "text": [
      "Training period: 2017-06-01 to 2024-01-01\n",
      "Testing period: 2024-02-01 to 2025-04-01\n"
     ]
    }
   ],
   "source": [
    "train_size = int(len(df) * 0.85)\n",
    "df_train = df_prophet[:train_size]\n",
    "df_test = df_prophet[train_size:]\n",
    "\n",
    "print(f\"Training period: {df_train['ds'].iloc[0].date()} to {df_train['ds'].iloc[-1].date()}\")\n",
    "print(f\"Testing period: {df_test['ds'].iloc[0].date()} to {df_test['ds'].iloc[-1].date()}\")"
   ]
  },
  {
   "cell_type": "code",
   "execution_count": 9,
   "id": "b9149b1b-0a5c-4aff-9881-5f8750d08e02",
   "metadata": {},
   "outputs": [],
   "source": [
    "# Step 4: Initialize and fit the Prophet model\n",
    "model = Prophet(\n",
    "    yearly_seasonality=True,  # Enable yearly seasonality\n",
    "    weekly_seasonality=False,  # Disable weekly (not relevant for monthly data)\n",
    "    daily_seasonality=False,   # Disable daily (not relevant for monthly data)\n",
    "    changepoint_prior_scale=0.5  # Increase flexibility for changepoints (e.g., COVID-19)\n",
    ")\n"
   ]
  },
  {
   "cell_type": "code",
   "execution_count": 10,
   "id": "3bbc7474-dc9e-4957-bfc7-15b7d790ed07",
   "metadata": {},
   "outputs": [],
   "source": [
    "for var in column_feature:\n",
    "    model.add_regressor(var)"
   ]
  },
  {
   "cell_type": "code",
   "execution_count": 11,
   "id": "5d65dc33-a18f-4160-9a47-de3e868275cb",
   "metadata": {},
   "outputs": [
    {
     "name": "stderr",
     "output_type": "stream",
     "text": [
      "05:03:55 - cmdstanpy - INFO - Chain [1] start processing\n",
      "05:03:56 - cmdstanpy - INFO - Chain [1] done processing\n"
     ]
    },
    {
     "data": {
      "text/plain": [
       "<prophet.forecaster.Prophet at 0x25ecff8dad0>"
      ]
     },
     "execution_count": 11,
     "metadata": {},
     "output_type": "execute_result"
    }
   ],
   "source": [
    "model.fit(df_train)"
   ]
  },
  {
   "cell_type": "code",
   "execution_count": 12,
   "id": "17ff9767-2558-4c84-8f0d-fc1c107b5800",
   "metadata": {},
   "outputs": [],
   "source": [
    "test_dates = df_test['ds']"
   ]
  },
  {
   "cell_type": "code",
   "execution_count": 13,
   "id": "b3261e35-ba8d-44f7-aeb1-2c6dd1a9aef8",
   "metadata": {},
   "outputs": [],
   "source": [
    "future_dates = pd.date_range(start='2025-05-01', end='2025-10-01', freq='MS')\n",
    "# Combine test and future dates\n",
    "all_dates = pd.concat([pd.Series(test_dates), pd.Series(future_dates)], ignore_index=True)\n",
    "future_df = pd.DataFrame({'ds': all_dates})"
   ]
  },
  {
   "cell_type": "code",
   "execution_count": 14,
   "id": "638a57c0-6be5-4b7b-bfdc-4da9e13dc8fa",
   "metadata": {},
   "outputs": [],
   "source": [
    "last_exog = df_prophet[column_feature].iloc[-1]\n",
    "for var in column_feature:\n",
    "    # Test period: use actual values\n",
    "    future_df.loc[future_df['ds'].isin(test_dates), var] = df_test[var].values\n",
    "    # Future period: use last known values\n",
    "    future_df.loc[~future_df['ds'].isin(test_dates), var] = last_exog[var]"
   ]
  },
  {
   "cell_type": "code",
   "execution_count": 15,
   "id": "52a3e94d-3d88-43c1-a6bb-ce09163cbe60",
   "metadata": {},
   "outputs": [],
   "source": [
    "forecast = model.predict(future_df)"
   ]
  },
  {
   "cell_type": "code",
   "execution_count": 16,
   "id": "330825e9-6121-4239-a2a5-bfc9501f9249",
   "metadata": {},
   "outputs": [
    {
     "name": "stdout",
     "output_type": "stream",
     "text": [
      "RMSE: 0.351024154219207\n"
     ]
    }
   ],
   "source": [
    "test_forecast = forecast[forecast['ds'].isin(test_dates)]\n",
    "\n",
    "# Step 8: Evaluate test period forecast\n",
    "rmse = np.sqrt(mean_squared_error(df_test['y'], test_forecast['yhat']))\n",
    "print(f'RMSE: {rmse}')\n"
   ]
  },
  {
   "cell_type": "code",
   "execution_count": 17,
   "id": "9eadd4ec-cd5f-41f0-9284-a3b988920d73",
   "metadata": {},
   "outputs": [
    {
     "data": {
      "image/png": "[encoded data removed]",
      "text/plain": [
       "<Figure size 1000x600 with 1 Axes>"
      ]
     },
     "metadata": {},
     "output_type": "display_data"
    }
   ],
   "source": [
    "# Plot train, test, and forecast\n",
    "plt.figure(figsize=(10, 6))\n",
    "plt.plot(df_train['ds'], df_train['y'], label='Train')\n",
    "plt.plot(df_test['ds'], df_test['y'], label='Test')\n",
    "plt.plot(test_forecast['ds'], test_forecast['yhat'], label='Test Forecast')\n",
    "plt.fill_between(test_forecast['ds'], test_forecast['yhat_lower'], test_forecast['yhat_upper'], color='blue', alpha=0.1, label='Test Forecast CI')\n",
    "plt.title('Prophet Forecast for v39078 (Test Period)')\n",
    "plt.xlabel('Date')\n",
    "plt.ylabel('Interest Rate (v39078)')\n",
    "plt.legend()\n",
    "plt.show()"
   ]
  },
  {
   "cell_type": "code",
   "execution_count": 18,
   "id": "cfdb2f7d-d8c8-42a6-8305-3c392b214cf7",
   "metadata": {},
   "outputs": [
    {
     "name": "stderr",
     "output_type": "stream",
     "text": [
      "05:03:57 - cmdstanpy - INFO - Chain [1] start processing\n",
      "05:03:58 - cmdstanpy - INFO - Chain [1] done processing\n"
     ]
    },
    {
     "data": {
      "text/plain": [
       "<prophet.forecaster.Prophet at 0x25ecff830d0>"
      ]
     },
     "execution_count": 18,
     "metadata": {},
     "output_type": "execute_result"
    }
   ],
   "source": [
    "#Retrain\n",
    "model1 = Prophet(\n",
    "    yearly_seasonality=True,  # Enable yearly seasonality\n",
    "    weekly_seasonality=False,  # Disable weekly (not relevant for monthly data)\n",
    "    daily_seasonality=False,   # Disable daily (not relevant for monthly data)\n",
    "    changepoint_prior_scale=0.5  # Increase flexibility for changepoints (e.g., COVID-19)\n",
    ")\n",
    "for var in column_feature:\n",
    "    model1.add_regressor(var)\n",
    "model1.fit(df_prophet)"
   ]
  },
  {
   "cell_type": "code",
   "execution_count": 19,
   "id": "14521af9-8015-4e7a-88a9-568e9d04ff4b",
   "metadata": {},
   "outputs": [
    {
     "data": {
      "text/html": [
       "<div>\n",
       "<style scoped>\n",
       "    .dataframe tbody tr th:only-of-type {\n",
       "        vertical-align: middle;\n",
       "    }\n",
       "\n",
       "    .dataframe tbody tr th {\n",
       "        vertical-align: top;\n",
       "    }\n",
       "\n",
       "    .dataframe thead th {\n",
       "        text-align: right;\n",
       "    }\n",
       "</style>\n",
       "<table border=\"1\" class=\"dataframe\">\n",
       "  <thead>\n",
       "    <tr style=\"text-align: right;\">\n",
       "      <th></th>\n",
       "      <th>ds</th>\n",
       "      <th>bond_yield_1_yr</th>\n",
       "      <th>bond_yield_5_yr</th>\n",
       "      <th>bond_yield_10_yr</th>\n",
       "      <th>us_funds_rate</th>\n",
       "      <th>cpi_yoy</th>\n",
       "      <th>production_yoy</th>\n",
       "      <th>y</th>\n",
       "    </tr>\n",
       "  </thead>\n",
       "  <tbody>\n",
       "    <tr>\n",
       "      <th>2025-05-01</th>\n",
       "      <td>2025-05-01</td>\n",
       "      <td>2.65</td>\n",
       "      <td>1.6</td>\n",
       "      <td>3.07</td>\n",
       "      <td>4.33</td>\n",
       "      <td>1.805743</td>\n",
       "      <td>0.0</td>\n",
       "      <td>3.0</td>\n",
       "    </tr>\n",
       "    <tr>\n",
       "      <th>2025-06-01</th>\n",
       "      <td>2025-06-01</td>\n",
       "      <td>2.65</td>\n",
       "      <td>1.6</td>\n",
       "      <td>3.07</td>\n",
       "      <td>4.33</td>\n",
       "      <td>1.805743</td>\n",
       "      <td>0.0</td>\n",
       "      <td>3.0</td>\n",
       "    </tr>\n",
       "    <tr>\n",
       "      <th>2025-07-01</th>\n",
       "      <td>2025-07-01</td>\n",
       "      <td>2.65</td>\n",
       "      <td>1.6</td>\n",
       "      <td>3.07</td>\n",
       "      <td>4.33</td>\n",
       "      <td>1.805743</td>\n",
       "      <td>0.0</td>\n",
       "      <td>3.0</td>\n",
       "    </tr>\n",
       "    <tr>\n",
       "      <th>2025-08-01</th>\n",
       "      <td>2025-08-01</td>\n",
       "      <td>2.65</td>\n",
       "      <td>1.6</td>\n",
       "      <td>3.07</td>\n",
       "      <td>4.33</td>\n",
       "      <td>1.805743</td>\n",
       "      <td>0.0</td>\n",
       "      <td>3.0</td>\n",
       "    </tr>\n",
       "    <tr>\n",
       "      <th>2025-09-01</th>\n",
       "      <td>2025-09-01</td>\n",
       "      <td>2.65</td>\n",
       "      <td>1.6</td>\n",
       "      <td>3.07</td>\n",
       "      <td>4.33</td>\n",
       "      <td>1.805743</td>\n",
       "      <td>0.0</td>\n",
       "      <td>3.0</td>\n",
       "    </tr>\n",
       "    <tr>\n",
       "      <th>2025-10-01</th>\n",
       "      <td>2025-10-01</td>\n",
       "      <td>2.65</td>\n",
       "      <td>1.6</td>\n",
       "      <td>3.07</td>\n",
       "      <td>4.33</td>\n",
       "      <td>1.805743</td>\n",
       "      <td>0.0</td>\n",
       "      <td>3.0</td>\n",
       "    </tr>\n",
       "  </tbody>\n",
       "</table>\n",
       "</div>"
      ],
      "text/plain": [
       "                   ds bond_yield_1_yr bond_yield_5_yr bond_yield_10_yr  \\\n",
       "2025-05-01 2025-05-01            2.65             1.6             3.07   \n",
       "2025-06-01 2025-06-01            2.65             1.6             3.07   \n",
       "2025-07-01 2025-07-01            2.65             1.6             3.07   \n",
       "2025-08-01 2025-08-01            2.65             1.6             3.07   \n",
       "2025-09-01 2025-09-01            2.65             1.6             3.07   \n",
       "2025-10-01 2025-10-01            2.65             1.6             3.07   \n",
       "\n",
       "           us_funds_rate   cpi_yoy production_yoy    y  \n",
       "2025-05-01          4.33  1.805743            0.0  3.0  \n",
       "2025-06-01          4.33  1.805743            0.0  3.0  \n",
       "2025-07-01          4.33  1.805743            0.0  3.0  \n",
       "2025-08-01          4.33  1.805743            0.0  3.0  \n",
       "2025-09-01          4.33  1.805743            0.0  3.0  \n",
       "2025-10-01          4.33  1.805743            0.0  3.0  "
      ]
     },
     "execution_count": 19,
     "metadata": {},
     "output_type": "execute_result"
    }
   ],
   "source": [
    "future_exog = df_prophet.iloc[-1:].copy()\n",
    "# Repeat the last row 6 times while keeping it as a DataFrame\n",
    "future_exog = pd.DataFrame(\n",
    "    np.repeat(future_exog.values, 6, axis=0),\n",
    "    columns=future_exog.columns,\n",
    "    index=pd.date_range(start=df.index[-1] + pd.offsets.MonthBegin(1), periods=6, freq='MS')\n",
    ")\n",
    "future_exog['ds']=future_exog.index\n",
    "future_exog"
   ]
  },
  {
   "cell_type": "code",
   "execution_count": 20,
   "id": "59e4e7cf-8f6e-4d4a-ae81-f4f7f4b3abee",
   "metadata": {},
   "outputs": [],
   "source": [
    "forecast = model1.predict(future_exog)"
   ]
  },
  {
   "cell_type": "code",
   "execution_count": 58,
   "id": "b6f04b81-b247-447e-8382-90641ed51832",
   "metadata": {},
   "outputs": [],
   "source": [
    "df_output_test=test_forecast[['ds','yhat_lower','yhat_upper','yhat','bond_yield_1_yr','bond_yield_5_yr','bond_yield_10_yr','us_funds_rate','cpi_yoy','production_yoy']]\n",
    "df_output_future=forecast[['ds','yhat_lower','yhat_upper','yhat','bond_yield_1_yr','bond_yield_5_yr','bond_yield_10_yr','us_funds_rate','cpi_yoy','production_yoy']]\n",
    "df_output_test['type']='test'\n",
    "df_output_future['type']='future'\n",
    "df_output_test['model']='Prophet'\n",
    "df_output_future['model']='Prophet'\n",
    "\n",
    "union_df = pd.concat([df_output_test,df_output_future ])\n",
    "union_df = union_df.rename(columns={'ds': 'date' })\n",
    "union_df['model']='Prophet'\n"
   ]
  },
  {
   "cell_type": "code",
   "execution_count": 59,
   "id": "8710dbfe-36ac-4a38-a30b-d5f3cb2ef346",
   "metadata": {},
   "outputs": [],
   "source": [
    "df_orig=df_prophet[['ds','bond_yield_1_yr','bond_yield_5_yr','bond_yield_10_yr','us_funds_rate','cpi_yoy','production_yoy','y']].copy()\n"
   ]
  },
  {
   "cell_type": "code",
   "execution_count": 61,
   "id": "3410e5c8-11cf-4a2e-89a3-a8cc0e76ce75",
   "metadata": {},
   "outputs": [],
   "source": [
    "df_orig=df_orig.merge(df_output_test[['ds','yhat','model','type']],  how='left', left_on='ds', right_on='ds')\n"
   ]
  },
  {
   "cell_type": "code",
   "execution_count": 62,
   "id": "06b8ed08-627e-413a-afbb-99032942363a",
   "metadata": {},
   "outputs": [],
   "source": [
    "union_df = pd.concat([df_orig,df_output_future[['ds','bond_yield_1_yr','bond_yield_5_yr','bond_yield_10_yr','us_funds_rate','cpi_yoy','production_yoy','yhat','model','type']] ])"
   ]
  },
  {
   "cell_type": "code",
   "execution_count": 63,
   "id": "db8d050b-81a3-43b4-a57c-1ea84a8560d0",
   "metadata": {},
   "outputs": [],
   "source": [
    "union_df['model']='Prophet'\n",
    "union_df['type']=union_df['type'].fillna('train')\n",
    "union_df.to_csv(\"model_forecast_prophet.csv\",index=False)"
   ]
  },
  {
   "cell_type": "code",
   "execution_count": null,
   "id": "e2cb30e9-ed9f-4804-932d-291dbcc8fe3c",
   "metadata": {},
   "outputs": [],
   "source": []
  }
 ],
 "metadata": {
  "kernelspec": {
   "display_name": "Python 3 (ipykernel)",
   "language": "python",
   "name": "python3"
  },
  "language_info": {
   "codemirror_mode": {
    "name": "ipython",
    "version": 3
   },
   "file_extension": ".py",
   "mimetype": "text/x-python",
   "name": "python",
   "nbconvert_exporter": "python",
   "pygments_lexer": "ipython3",
   "version": "3.11.11"
  }
 },
 "nbformat": 4,
 "nbformat_minor": 5
}
